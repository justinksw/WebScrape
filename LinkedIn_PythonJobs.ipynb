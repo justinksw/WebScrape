{
 "metadata": {
  "language_info": {
   "codemirror_mode": {
    "name": "ipython",
    "version": 3
   },
   "file_extension": ".py",
   "mimetype": "text/x-python",
   "name": "python",
   "nbconvert_exporter": "python",
   "pygments_lexer": "ipython3",
   "version": "3.9.1-final"
  },
  "orig_nbformat": 2,
  "kernelspec": {
   "name": "python3",
   "display_name": "Python 3.9.1 64-bit ('base': conda)",
   "metadata": {
    "interpreter": {
     "hash": "c8c631da53a56b119648474f94aab71618d911cba541483a3b1c721a3c95e8c2"
    }
   }
  }
 },
 "nbformat": 4,
 "nbformat_minor": 2,
 "cells": [
  {
   "cell_type": "code",
   "execution_count": 1,
   "metadata": {},
   "outputs": [],
   "source": [
    "import pandas as pd\n",
    "from bs4 import BeautifulSoup\n",
    "import requests"
   ]
  },
  {
   "cell_type": "code",
   "execution_count": 2,
   "metadata": {},
   "outputs": [
    {
     "output_type": "stream",
     "name": "stdout",
     "text": [
      "<Response [200]>\n"
     ]
    }
   ],
   "source": [
    "# Job search result in Linkedin with \"Python\" \"Entry level\"\n",
    "url = 'https://www.linkedin.com/jobs/search/?f_E=2&keywords=python1'\n",
    "\n",
    "html = requests.get(url)\n",
    "print(html)  # <Response [200]> means ok"
   ]
  },
  {
   "cell_type": "code",
   "execution_count": 3,
   "metadata": {},
   "outputs": [],
   "source": [
    "html_text =  requests.get(url).text  # get html text\n",
    "soup = BeautifulSoup(html_text, 'lxml')"
   ]
  },
  {
   "cell_type": "code",
   "execution_count": 10,
   "metadata": {},
   "outputs": [
    {
     "output_type": "execute_result",
     "data": {
      "text/plain": [
       "                        Job Title    Publish Time\n",
       "0  [Python developer- Apply now!]    [2 days ago]\n",
       "1              [Quality Engineer]  [16 hours ago]\n",
       "2          [Cyber Data Scientist]   [3 hours ago]\n",
       "3              [Quality Engineer]     [1 day ago]\n",
       "4    [Software Engineer, Level 1]   [2 weeks ago]"
      ],
      "text/html": "<div>\n<style scoped>\n    .dataframe tbody tr th:only-of-type {\n        vertical-align: middle;\n    }\n\n    .dataframe tbody tr th {\n        vertical-align: top;\n    }\n\n    .dataframe thead th {\n        text-align: right;\n    }\n</style>\n<table border=\"1\" class=\"dataframe\">\n  <thead>\n    <tr style=\"text-align: right;\">\n      <th></th>\n      <th>Job Title</th>\n      <th>Publish Time</th>\n    </tr>\n  </thead>\n  <tbody>\n    <tr>\n      <th>0</th>\n      <td>[Python developer- Apply now!]</td>\n      <td>[2 days ago]</td>\n    </tr>\n    <tr>\n      <th>1</th>\n      <td>[Quality Engineer]</td>\n      <td>[16 hours ago]</td>\n    </tr>\n    <tr>\n      <th>2</th>\n      <td>[Cyber Data Scientist]</td>\n      <td>[3 hours ago]</td>\n    </tr>\n    <tr>\n      <th>3</th>\n      <td>[Quality Engineer]</td>\n      <td>[1 day ago]</td>\n    </tr>\n    <tr>\n      <th>4</th>\n      <td>[Software Engineer, Level 1]</td>\n      <td>[2 weeks ago]</td>\n    </tr>\n  </tbody>\n</table>\n</div>"
     },
     "metadata": {},
     "execution_count": 10
    }
   ],
   "source": [
    "result_cards = soup.find_all('div', class_ = 'result-card__contents job-result-card__contents')\n",
    "\n",
    "df = pd.DataFrame()\n",
    "\n",
    "jobs = []\n",
    "publish_times = []\n",
    "\n",
    "for result in result_cards:\n",
    "    \n",
    "    job = result.find('h3', class_='result-card__title job-result-card__title')\n",
    "    publish_time = result.find('time')\n",
    "\n",
    "    jobs.append(job)\n",
    "    publish_times.append(publish_time)\n",
    "\n",
    "df['Job Title'] = jobs\n",
    "df['Publish Time'] = publish_times\n",
    "\n",
    "# df.sort_values(by=['Publish Time'])\n",
    "\n",
    "df.head()"
   ]
  },
  {
   "cell_type": "code",
   "execution_count": null,
   "metadata": {},
   "outputs": [],
   "source": []
  }
 ]
}
